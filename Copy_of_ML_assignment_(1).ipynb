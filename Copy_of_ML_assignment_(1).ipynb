{
  "nbformat": 4,
  "nbformat_minor": 0,
  "metadata": {
    "colab": {
      "name": "Copy of ML_assignment (1).ipynb",
      "provenance": [],
      "collapsed_sections": [],
      "include_colab_link": true
    },
    "kernelspec": {
      "name": "python3",
      "display_name": "Python 3"
    },
    "language_info": {
      "name": "python"
    }
  },
  "cells": [
    {
      "cell_type": "markdown",
      "metadata": {
        "id": "view-in-github",
        "colab_type": "text"
      },
      "source": [
        "<a href=\"https://colab.research.google.com/github/noahanno/Speech-Emotion-Recognition-/blob/main/Copy_of_ML_assignment_(1).ipynb\" target=\"_parent\"><img src=\"https://colab.research.google.com/assets/colab-badge.svg\" alt=\"Open In Colab\"/></a>"
      ]
    },
    {
      "cell_type": "markdown",
      "metadata": {
        "id": "UkJr6Lh9aIem"
      },
      "source": [
        "## Question 1 : Linear Regression\n",
        "To check whether you are able to build simple linear regression model from scratch or not."
      ]
    },
    {
      "cell_type": "code",
      "metadata": {
        "id": "wq1ZliSEuhTw",
        "colab": {
          "base_uri": "https://localhost:8080/"
        },
        "outputId": "ff1a754d-361a-4846-d23f-d1de4ea8d4af"
      },
      "source": [
        "import numpy as np\n",
        "import matplotlib.pyplot as plt\n",
        "%matplotlib inline\n",
        " \n",
        "!wget --no-check-certificate https://github.com/adigup390/datasets/raw/main/X.npy -O X.npy\n",
        "!wget --no-check-certificate https://github.com/adigup390/datasets/raw/main/y.npy -O y.npy"
      ],
      "execution_count": 38,
      "outputs": [
        {
          "output_type": "stream",
          "text": [
            "--2021-05-27 20:46:29--  https://github.com/adigup390/datasets/raw/main/X.npy\n",
            "Resolving github.com (github.com)... 192.30.255.113\n",
            "Connecting to github.com (github.com)|192.30.255.113|:443... connected.\n",
            "HTTP request sent, awaiting response... 302 Found\n",
            "Location: https://raw.githubusercontent.com/adigup390/datasets/main/X.npy [following]\n",
            "--2021-05-27 20:46:29--  https://raw.githubusercontent.com/adigup390/datasets/main/X.npy\n",
            "Resolving raw.githubusercontent.com (raw.githubusercontent.com)... 185.199.109.133, 185.199.108.133, 185.199.110.133, ...\n",
            "Connecting to raw.githubusercontent.com (raw.githubusercontent.com)|185.199.109.133|:443... connected.\n",
            "HTTP request sent, awaiting response... 200 OK\n",
            "Length: 528 [application/octet-stream]\n",
            "Saving to: ‘X.npy’\n",
            "\n",
            "X.npy               100%[===================>]     528  --.-KB/s    in 0s      \n",
            "\n",
            "2021-05-27 20:46:29 (28.2 MB/s) - ‘X.npy’ saved [528/528]\n",
            "\n",
            "--2021-05-27 20:46:29--  https://github.com/adigup390/datasets/raw/main/y.npy\n",
            "Resolving github.com (github.com)... 192.30.255.112\n",
            "Connecting to github.com (github.com)|192.30.255.112|:443... connected.\n",
            "HTTP request sent, awaiting response... 302 Found\n",
            "Location: https://raw.githubusercontent.com/adigup390/datasets/main/y.npy [following]\n",
            "--2021-05-27 20:46:29--  https://raw.githubusercontent.com/adigup390/datasets/main/y.npy\n",
            "Resolving raw.githubusercontent.com (raw.githubusercontent.com)... 185.199.109.133, 185.199.110.133, 185.199.108.133, ...\n",
            "Connecting to raw.githubusercontent.com (raw.githubusercontent.com)|185.199.109.133|:443... connected.\n",
            "HTTP request sent, awaiting response... 200 OK\n",
            "Length: 528 [application/octet-stream]\n",
            "Saving to: ‘y.npy’\n",
            "\n",
            "y.npy               100%[===================>]     528  --.-KB/s    in 0s      \n",
            "\n",
            "2021-05-27 20:46:30 (22.5 MB/s) - ‘y.npy’ saved [528/528]\n",
            "\n"
          ],
          "name": "stdout"
        }
      ]
    },
    {
      "cell_type": "code",
      "metadata": {
        "id": "021fTYdwTkZm"
      },
      "source": [
        "def load_data_LR():\n",
        "  # Implement this function to read the dataset using the path declared in path_X and path_y\n",
        "  # should return the X and y data\n",
        "  # use np.load() to load the data google it you will get to know how to do it\n",
        "\n",
        "  path_X = \"X.npy\"\n",
        "  path_y = \"y.npy\"\n",
        "  X=np.load(path_X)\n",
        "  y=np.load(path_y)\n",
        "\n",
        "  X=X.reshape(len(X),1);\n",
        "  y=y.reshape(len(y),1);\n",
        "  # Write your code here ----------\n",
        "\n",
        "  # -------------------------------\n",
        "\n",
        "  return X, y"
      ],
      "execution_count": 41,
      "outputs": []
    },
    {
      "cell_type": "code",
      "metadata": {
        "id": "Ngg3QUyTfBxC"
      },
      "source": [
        "from sklearn.model_selection import train_test_split\n",
        "def get_linear_model(X, y):\n",
        "  # This shoudl return a proper linear model without bias of type y = XW\n",
        "\n",
        "  X_train, X_test, y_train, y_test = train_test_split(X, y, test_size=0.4, random_state=101)\n",
        "  from sklearn.linear_model import LinearRegression\n",
        "  lm.fit(X_train,y_train)\n",
        "  coeff_df = pd.DataFrame(lm.coef_,X.columns,columns=['Coefficient'])\n",
        "  W=coeff_df\n",
        "  #W = np.random.randn(D, out_shape)\n",
        "\n",
        "  return W"
      ],
      "execution_count": 78,
      "outputs": []
    },
    {
      "cell_type": "code",
      "metadata": {
        "id": "c52FIGu-hlzM"
      },
      "source": [
        "from sklearn import metrics\n",
        "from sklearn.linear_model import LinearRegression\n",
        "def MSE(y, y_pred):\n",
        "  # should return the mean square error between the actual y and predicted y\n",
        "  n = len(y)\n",
        "  error = np.sum(np.square(y-y_pred))/(2*n)\n",
        "  return error"
      ],
      "execution_count": 85,
      "outputs": []
    },
    {
      "cell_type": "code",
      "metadata": {
        "id": "zrBrqA15hCdT"
      },
      "source": [
        "def train_by_algebra(X, y):\n",
        "  # should return the trained weight 'W' using the linear algebra method i.e. setting dE/dW = 0\n",
        "  X1=np.transpose(X)\n",
        "  product=np.matmul(X1,X)\n",
        "  inverse=np.linalg.inv(product)\n",
        "  product1=np.matmul(inverse,X1)\n",
        "  W=np.matmul(product1,y)\n",
        "  return W"
      ],
      "execution_count": 35,
      "outputs": []
    },
    {
      "cell_type": "code",
      "metadata": {
        "id": "kJ_r_R1PixX2"
      },
      "source": [
        "def train_by_GD(X, y, epochs=5, lr=0.01):\n",
        "  # should return the trained weight 'W' using the gradient descent for number of iterations equals to epochs\n",
        "  # should also return error history int the cariable error_hist.shape = (epochs,); error_hist[i] = mean square error after epoch i-1\n",
        "  # should also print mean square error after each epoch/ iteration\n",
        "  # lr = \"learning rate\" i.e. eta\n",
        "  \n",
        "    m_curr=0;\n",
        "    n=len(y)\n",
        "    iterations = epochs;\n",
        "    learning_rate = 0.01;\n",
        "    for i in range(iterations):\n",
        "        y_predicted = m_curr * X;\n",
        "        cost = (1/n) * sum([val**2 for val in (y-y_predicted)])\n",
        "        md = -(2/n)*sum(X*(y-y_predicted))\n",
        "        m_curr = m_curr - learning_rate * md\n",
        "        error_hist = np.zeros((epochs, ))\n",
        "        error_hist[i]==metrics.mean_squared_error(y,y_predicted)\n",
        "        print (\"m {}, cost {}, MSEerror{}, iteration {}\".format(m_curr,cost,error_hist[i],i))\n",
        "        W=m_curr\n",
        "\n",
        "        return W, error_hist"
      ],
      "execution_count": 65,
      "outputs": []
    },
    {
      "cell_type": "markdown",
      "metadata": {
        "id": "uLTxFIOgkdjJ"
      },
      "source": [
        "### Now write a complete code using the function defined above to learn the model for following cases:"
      ]
    },
    {
      "cell_type": "markdown",
      "metadata": {
        "id": "eYW1AukM378a"
      },
      "source": [
        "##### Learn **W** using linear algebra method and prints mean square error between actual y and predicted y. Use `y_pred = XW`. Also plot y_pred and y on different plots."
      ]
    },
    {
      "cell_type": "code",
      "metadata": {
        "id": "AIRs0jB-kOZU",
        "colab": {
          "base_uri": "https://localhost:8080/",
          "height": 300
        },
        "outputId": "955a7ea0-6ab3-4f59-808e-f6a3960577b7"
      },
      "source": [
        "X, y = load_data_LR()\n",
        "weight=train_by_algebra(X, y)\n",
        "y_pred=np.dot(X,weight)\n",
        "meansqerror=metrics.mean_squared_error(y,y_pred)\n",
        "print(meansqerror)\n",
        "plt.plot(y)\n",
        "plt.plot(y_pred)\n"
      ],
      "execution_count": 45,
      "outputs": [
        {
          "output_type": "stream",
          "text": [
            "5.490059820643823\n"
          ],
          "name": "stdout"
        },
        {
          "output_type": "execute_result",
          "data": {
            "text/plain": [
              "[<matplotlib.lines.Line2D at 0x7f158f6d2a10>]"
            ]
          },
          "metadata": {
            "tags": []
          },
          "execution_count": 45
        },
        {
          "output_type": "display_data",
          "data": {
            "image/png": "[encoded data removed]",
            "text/plain": [
              "<Figure size 432x288 with 1 Axes>"
            ]
          },
          "metadata": {
            "tags": [],
            "needs_background": "light"
          }
        }
      ]
    },
    {
      "cell_type": "markdown",
      "metadata": {
        "id": "6kP77_sK4CpT"
      },
      "source": [
        "##### Learn **W** using gradient descent method for following learning rates, `lr = [0.01, 0.001, 0.0001]` for **10 epochs**. Plot **MSE vs epochs** for each of them.  Also plot y_pred and y on different plots."
      ]
    },
    {
      "cell_type": "code",
      "metadata": {
        "id": "1bac27RT4G2H",
        "colab": {
          "base_uri": "https://localhost:8080/",
          "height": 337
        },
        "outputId": "82c8f2cf-94ce-4da6-e3f0-85a37c5fb91f"
      },
      "source": [
        " X,y=load_data_LR()\n",
        " w1 ,arr1=train_by_GD(X, y, 10, 0.01)\n",
        " y_pred=np.dot(X,w1)\n",
        " mse=MSE(y,y_pred)\n",
        " plt.plot(y)\n",
        " plt.plot(y_pred)"
      ],
      "execution_count": 89,
      "outputs": [
        {
          "output_type": "stream",
          "text": [
            "m [1.61476948], cost [811.76107828], MSEerror0.0, iteration 0\n",
            "m [1.61476948], cost [811.76107828], MSEerror0.0, iteration 0\n",
            "m [1.61476948], cost [811.76107828], MSEerror0.0, iteration 0\n"
          ],
          "name": "stdout"
        },
        {
          "output_type": "execute_result",
          "data": {
            "text/plain": [
              "[<matplotlib.lines.Line2D at 0x7f158d936e90>]"
            ]
          },
          "metadata": {
            "tags": []
          },
          "execution_count": 89
        },
        {
          "output_type": "display_data",
          "data": {
            "image/png": "[encoded data removed]",
            "text/plain": [
              "<Figure size 432x288 with 1 Axes>"
            ]
          },
          "metadata": {
            "tags": [],
            "needs_background": "light"
          }
        }
      ]
    },
    {
      "cell_type": "code",
      "metadata": {
        "colab": {
          "base_uri": "https://localhost:8080/",
          "height": 303
        },
        "id": "Cux7ySBSughk",
        "outputId": "63c9ed16-30bb-47d9-f3f0-14d943752ac6"
      },
      "source": [
        "  X,y=load_data_LR()\n",
        "  w2 ,arr2=train_by_GD(X, y, 10, 0.001)\n",
        "  y_pred=np.dot(X,w2)\n",
        "  mse=MSE(y,y_pred)\n",
        "  plt.plot(y)\n",
        "  plt.plot(y_pred)"
      ],
      "execution_count": 90,
      "outputs": [
        {
          "output_type": "stream",
          "text": [
            "m [1.61476948], cost [811.76107828], MSEerror0.0, iteration 0\n"
          ],
          "name": "stdout"
        },
        {
          "output_type": "execute_result",
          "data": {
            "text/plain": [
              "[<matplotlib.lines.Line2D at 0x7f158d8a1fd0>]"
            ]
          },
          "metadata": {
            "tags": []
          },
          "execution_count": 90
        },
        {
          "output_type": "display_data",
          "data": {
            "image/png": "[encoded data removed]",
            "text/plain": [
              "<Figure size 432x288 with 1 Axes>"
            ]
          },
          "metadata": {
            "tags": [],
            "needs_background": "light"
          }
        }
      ]
    },
    {
      "cell_type": "code",
      "metadata": {
        "id": "mna7Uh0vJuNe",
        "colab": {
          "base_uri": "https://localhost:8080/",
          "height": 303
        },
        "outputId": "1af21f7e-195f-4488-9aa1-ba297d271b35"
      },
      "source": [
        " X,y=load_data_LR()\n",
        " w3 ,arr3=train_by_GD(X, y, 10, 0.0001)\n",
        " y_pred=np.dot(X,w3)\n",
        " mse=MSE(y,y_pred)\n",
        " plt.plot(y)\n",
        " plt.plot(y_pred)\n",
        " "
      ],
      "execution_count": 91,
      "outputs": [
        {
          "output_type": "stream",
          "text": [
            "m [1.61476948], cost [811.76107828], MSEerror0.0, iteration 0\n"
          ],
          "name": "stdout"
        },
        {
          "output_type": "execute_result",
          "data": {
            "text/plain": [
              "[<matplotlib.lines.Line2D at 0x7f1591cc1190>]"
            ]
          },
          "metadata": {
            "tags": []
          },
          "execution_count": 91
        },
        {
          "output_type": "display_data",
          "data": {
            "image/png": "[encoded data removed]",
            "text/plain": [
              "<Figure size 432x288 with 1 Axes>"
            ]
          },
          "metadata": {
            "tags": [],
            "needs_background": "light"
          }
        }
      ]
    },
    {
      "cell_type": "markdown",
      "metadata": {
        "id": "4zJO-LIvn6sD"
      },
      "source": [
        "## Question 2: Image Classification in Tensorflow using Deep Learning\n",
        "To check whether you are able to build a given neural network model in tensorflow or not. First we will build a fully connected NN model second we will build a CNN model."
      ]
    },
    {
      "cell_type": "code",
      "metadata": {
        "id": "7mynGfqRn24b"
      },
      "source": [
        "import numpy as np\n",
        "import tensorflow as tf\n",
        "import matplotlib.pyplot as plt\n",
        "from tensorflow import keras"
      ],
      "execution_count": 98,
      "outputs": []
    },
    {
      "cell_type": "code",
      "metadata": {
        "id": "s8WKt-qY4agV"
      },
      "source": [
        "def plot_history(history):\n",
        "  # function to plot accuracy vs epoch\n",
        "\n",
        "  plt.plot(history.history['accuracy'], label='accuracy')\n",
        "  plt.plot(history.history['val_accuracy'], label = 'val_accuracy')\n",
        "  plt.xlabel('Epoch')\n",
        "  plt.ylabel('Accuracy')\n",
        "  plt.legend(loc='lower right')"
      ],
      "execution_count": 103,
      "outputs": []
    },
    {
      "cell_type": "code",
      "metadata": {
        "id": "tCT9Kmhhn5I_"
      },
      "source": [
        "def load_data_cifar10_norm():\n",
        "  # should return the normalised cifar10 dataset by loading it from tensorflow\n",
        "  # link: https://www.tensorflow.org/api_docs/python/tf/keras/datasets/cifar10/\n",
        "  (x_train, y_train), (x_test, y_test) = keras.datasets.cifar10.load_data()\n",
        "\n",
        "  return x_train, y_train, x_test, y_test"
      ],
      "execution_count": 99,
      "outputs": []
    },
    {
      "cell_type": "markdown",
      "metadata": {
        "id": "LDpHSTRPvS9t"
      },
      "source": [
        "### Define a fully connected neural network model with following attributes:\n",
        "\n",
        "*   Total number of **hidden layers = 4**, all with **relu** activation\n",
        "*   Number of neurons in **first hidden layer = 7200**\n",
        "*   Number of neurons in **second hidden layer = 2304**\n",
        "*   Number of neurons in **third hidden layer = 1024**\n",
        "*   Number of neurons in **fourth hidden layer = 64**\n"
      ]
    },
    {
      "cell_type": "code",
      "metadata": {
        "id": "VYYQzIWnqU3t"
      },
      "source": [
        "def build_fc_model(input_shape=(32, 32, 3), num_class=10):\n",
        "\n",
        "  # should return a sequential model defined based on the above attributes\n",
        "  # do not compile the model\n",
        "  model=tf.keras.models.Sequential([\n",
        "  tf.keras.layers.Flatten(),\n",
        "  tf.keras.layers.Dense(7200, activation='relu'),\n",
        "  tf.keras.layers.Dense(2304, activation='relu'),\n",
        "  tf.keras.layers.Dense(1024, activation='relu'),\n",
        "  tf.keras.layers.Dense(64, activation='relu'),\n",
        "   tf.keras.layers.Dense(10, activation = tf.nn.softmax)\n",
        "  ]) \n",
        "\n",
        "\n",
        "\n",
        "  return model"
      ],
      "execution_count": 101,
      "outputs": []
    },
    {
      "cell_type": "markdown",
      "metadata": {
        "id": "pdcQ2yqz1RYH"
      },
      "source": [
        "### Define a CNN model with following attribute:\n",
        "\n",
        "*   Total number of **hidden layer = 4**\n",
        "*   After every convolutional layer there must be a MaxPoolingLayer of size (2, 2)\n",
        "*   Total number of convolutional layer = 3, all with **relu** activation.\n",
        "    *    Number of filters in **first convolutional layer = 32**\n",
        "    *    Number of filters in **second convolutional layer = 64**\n",
        "    *    Number of filters in **third convolutional layer = 64**\n",
        "*   After all convolutional layer flatten the output and use **dense layer of 64 neurons**\n",
        "\n"
      ]
    },
    {
      "cell_type": "code",
      "metadata": {
        "id": "T00AYU3D3L1j"
      },
      "source": [
        "def build_cnn_model(input_shape=(32, 32, 3), num_class=10):\n",
        "  # should return a sequential model defined based on the above attributes\n",
        "  # do not compile the model\n",
        "  model=tf.keras.models.Sequential([\n",
        "  tf.keras.layers.Conv2D(32,(3,3), activation='relu',input_shape=(32,32,3)),\n",
        "  tf.keras.layers.MaxPooling2D(2,2),\n",
        "  tf.keras.layers.Conv2D(64,(3,3), activation='relu'),\n",
        "  tf.keras.layers.MaxPooling2D(2,2),\n",
        "  tf.keras.layers.Conv2D(64,(3,3), activation='relu'),\n",
        "  tf.keras.layers.MaxPooling2D(2,2),\n",
        "  tf.keras.layers.Flatten(),\n",
        "  tf.keras.layers.Dense(64, activation='relu'),\n",
        "  tf.keras.layers.Dense(10,activation='softmax')\n",
        "  ])\n",
        "\n",
        "\n",
        "\n",
        "\n",
        "\n",
        "  return model"
      ],
      "execution_count": 105,
      "outputs": []
    },
    {
      "cell_type": "markdown",
      "metadata": {
        "id": "7SXXUeRp4Urq"
      },
      "source": [
        "### Compile and train the fully connected neural network model using the above functions."
      ]
    },
    {
      "cell_type": "code",
      "metadata": {
        "id": "61_XiEUR3eV0",
        "colab": {
          "base_uri": "https://localhost:8080/",
          "height": 973
        },
        "outputId": "ea5da532-71e8-4b1f-820f-a477d79a9209"
      },
      "source": [
        "# Write your code here ----------\n",
        "x_train, y_train, x_test, y_test = load_data_cifar10_norm()\n",
        "model = build_fc_model()\n",
        "model.compile(optimizer = tf.keras.optimizers.Adam(), loss = 'sparse_categorical_crossentropy', metrics  = ['accuracy'])\n",
        "# -------------------------------\n",
        "\n",
        "history = model.fit(x_train, y_train, epochs=10, batch_size=512,\n",
        "                    validation_data=(x_test, y_test))\n",
        "\n",
        "plot_history(history)\n",
        "model.summary()"
      ],
      "execution_count": 107,
      "outputs": [
        {
          "output_type": "stream",
          "text": [
            "Epoch 1/10\n",
            "98/98 [==============================] - 188s 2s/step - loss: 364.5646 - accuracy: 0.0990 - val_loss: 2.3026 - val_accuracy: 0.1000\n",
            "Epoch 2/10\n",
            "98/98 [==============================] - 191s 2s/step - loss: 2.3026 - accuracy: 0.1000 - val_loss: 2.3026 - val_accuracy: 0.1000\n",
            "Epoch 3/10\n",
            "98/98 [==============================] - 191s 2s/step - loss: 2.3026 - accuracy: 0.1000 - val_loss: 2.3026 - val_accuracy: 0.1000\n",
            "Epoch 4/10\n",
            "98/98 [==============================] - 190s 2s/step - loss: 2.3026 - accuracy: 0.1000 - val_loss: 2.3026 - val_accuracy: 0.1000\n",
            "Epoch 5/10\n",
            "98/98 [==============================] - 191s 2s/step - loss: 2.3026 - accuracy: 0.0985 - val_loss: 2.3026 - val_accuracy: 0.1000\n",
            "Epoch 6/10\n",
            "98/98 [==============================] - 190s 2s/step - loss: 2.3026 - accuracy: 0.0984 - val_loss: 2.3026 - val_accuracy: 0.1000\n",
            "Epoch 7/10\n",
            "98/98 [==============================] - 190s 2s/step - loss: 2.3026 - accuracy: 0.1000 - val_loss: 2.3026 - val_accuracy: 0.1000\n",
            "Epoch 8/10\n",
            "98/98 [==============================] - 191s 2s/step - loss: 2.3026 - accuracy: 0.1000 - val_loss: 2.3026 - val_accuracy: 0.1000\n",
            "Epoch 9/10\n",
            "98/98 [==============================] - 190s 2s/step - loss: 2.3026 - accuracy: 0.0985 - val_loss: 2.3026 - val_accuracy: 0.1000\n",
            "Epoch 10/10\n",
            "98/98 [==============================] - 191s 2s/step - loss: 2.3026 - accuracy: 0.0986 - val_loss: 2.3026 - val_accuracy: 0.1000\n",
            "Model: \"sequential_2\"\n",
            "_________________________________________________________________\n",
            "Layer (type)                 Output Shape              Param #   \n",
            "=================================================================\n",
            "flatten_2 (Flatten)          (None, 3072)              0         \n",
            "_________________________________________________________________\n",
            "dense_7 (Dense)              (None, 7200)              22125600  \n",
            "_________________________________________________________________\n",
            "dense_8 (Dense)              (None, 2304)              16591104  \n",
            "_________________________________________________________________\n",
            "dense_9 (Dense)              (None, 1024)              2360320   \n",
            "_________________________________________________________________\n",
            "dense_10 (Dense)             (None, 64)                65600     \n",
            "_________________________________________________________________\n",
            "dense_11 (Dense)             (None, 10)                650       \n",
            "=================================================================\n",
            "Total params: 41,143,274\n",
            "Trainable params: 41,143,274\n",
            "Non-trainable params: 0\n",
            "_________________________________________________________________\n"
          ],
          "name": "stdout"
        },
        {
          "output_type": "display_data",
          "data": {
            "image/png": "[encoded data removed]",
            "text/plain": [
              "<Figure size 432x288 with 1 Axes>"
            ]
          },
          "metadata": {
            "tags": [],
            "needs_background": "light"
          }
        }
      ]
    },
    {
      "cell_type": "markdown",
      "metadata": {
        "id": "Z_yHXGc47ENb"
      },
      "source": [
        "### Compile and train the CNN model using the above functions."
      ]
    },
    {
      "cell_type": "code",
      "metadata": {
        "id": "aM9rueu97Gnq",
        "colab": {
          "base_uri": "https://localhost:8080/",
          "height": 1000
        },
        "outputId": "77a4ffbf-9973-4234-a862-48338a36f76c"
      },
      "source": [
        "x_train, y_train, x_test, y_test = load_data_cifar10_norm()\n",
        "model = build_cnn_model()\n",
        "model.compile(optimizer = tf.keras.optimizers.Adam(),\n",
        "              loss = 'sparse_categorical_crossentropy',\n",
        "              metrics=['accuracy'])\n",
        "\n",
        "history = model.fit(x_train, y_train, epochs=10, batch_size=512,\n",
        "                    validation_data=(x_test, y_test))\n",
        "\n",
        "plot_history(history)\n",
        "model.summary()"
      ],
      "execution_count": 106,
      "outputs": [
        {
          "output_type": "stream",
          "text": [
            "Epoch 1/10\n",
            "98/98 [==============================] - 54s 542ms/step - loss: 4.3254 - accuracy: 0.2045 - val_loss: 1.9399 - val_accuracy: 0.2979\n",
            "Epoch 2/10\n",
            "98/98 [==============================] - 53s 538ms/step - loss: 1.7961 - accuracy: 0.3528 - val_loss: 1.7187 - val_accuracy: 0.3778\n",
            "Epoch 3/10\n",
            "98/98 [==============================] - 53s 539ms/step - loss: 1.6064 - accuracy: 0.4252 - val_loss: 1.5649 - val_accuracy: 0.4360\n",
            "Epoch 4/10\n",
            "98/98 [==============================] - 53s 539ms/step - loss: 1.4890 - accuracy: 0.4701 - val_loss: 1.4491 - val_accuracy: 0.4829\n",
            "Epoch 5/10\n",
            "98/98 [==============================] - 53s 539ms/step - loss: 1.4090 - accuracy: 0.4988 - val_loss: 1.4077 - val_accuracy: 0.4960\n",
            "Epoch 6/10\n",
            "98/98 [==============================] - 53s 540ms/step - loss: 1.3213 - accuracy: 0.5321 - val_loss: 1.3156 - val_accuracy: 0.5345\n",
            "Epoch 7/10\n",
            "98/98 [==============================] - 53s 539ms/step - loss: 1.2605 - accuracy: 0.5551 - val_loss: 1.3111 - val_accuracy: 0.5331\n",
            "Epoch 8/10\n",
            "98/98 [==============================] - 53s 539ms/step - loss: 1.1977 - accuracy: 0.5779 - val_loss: 1.2756 - val_accuracy: 0.5489\n",
            "Epoch 9/10\n",
            "98/98 [==============================] - 53s 539ms/step - loss: 1.1646 - accuracy: 0.5915 - val_loss: 1.2591 - val_accuracy: 0.5590\n",
            "Epoch 10/10\n",
            "98/98 [==============================] - 53s 539ms/step - loss: 1.1058 - accuracy: 0.6116 - val_loss: 1.2616 - val_accuracy: 0.5637\n",
            "Model: \"sequential_1\"\n",
            "_________________________________________________________________\n",
            "Layer (type)                 Output Shape              Param #   \n",
            "=================================================================\n",
            "conv2d (Conv2D)              (None, 30, 30, 32)        896       \n",
            "_________________________________________________________________\n",
            "max_pooling2d (MaxPooling2D) (None, 15, 15, 32)        0         \n",
            "_________________________________________________________________\n",
            "conv2d_1 (Conv2D)            (None, 13, 13, 64)        18496     \n",
            "_________________________________________________________________\n",
            "max_pooling2d_1 (MaxPooling2 (None, 6, 6, 64)          0         \n",
            "_________________________________________________________________\n",
            "conv2d_2 (Conv2D)            (None, 4, 4, 64)          36928     \n",
            "_________________________________________________________________\n",
            "max_pooling2d_2 (MaxPooling2 (None, 2, 2, 64)          0         \n",
            "_________________________________________________________________\n",
            "flatten_1 (Flatten)          (None, 256)               0         \n",
            "_________________________________________________________________\n",
            "dense_5 (Dense)              (None, 64)                16448     \n",
            "_________________________________________________________________\n",
            "dense_6 (Dense)              (None, 10)                650       \n",
            "=================================================================\n",
            "Total params: 73,418\n",
            "Trainable params: 73,418\n",
            "Non-trainable params: 0\n",
            "_________________________________________________________________\n"
          ],
          "name": "stdout"
        },
        {
          "output_type": "display_data",
          "data": {
            "image/png": "[encoded data removed]",
            "text/plain": [
              "<Figure size 432x288 with 1 Axes>"
            ]
          },
          "metadata": {
            "tags": [],
            "needs_background": "light"
          }
        }
      ]
    },
    {
      "cell_type": "markdown",
      "metadata": {
        "id": "nKwrtPcy750Q"
      },
      "source": [
        "### What do you observe? Compare both the model by looking at their Accuracy vs Epoch plot and total numbers of trainable parameters."
      ]
    },
    {
      "cell_type": "code",
      "metadata": {
        "id": "Q2lFRCoL8N_b",
        "colab": {
          "base_uri": "https://localhost:8080/"
        },
        "outputId": "c99d6f73-edb3-44d6-8758-0a2abbde5c33"
      },
      "source": [
        "print(\"The CNN model has more accuracy as compared to fully connected neural network model.The time taken for modelling by CNN model is also lesser.\")"
      ],
      "execution_count": 108,
      "outputs": [
        {
          "output_type": "stream",
          "text": [
            "The CNN model has more accuracy as compared to fully connected neural network model.The time taken for modelling by CNN model is also lesser.\n"
          ],
          "name": "stdout"
        }
      ]
    }
  ]
}